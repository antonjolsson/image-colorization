{
 "cells": [
  {
   "cell_type": "code",
   "execution_count": 2,
   "id": "a3483e42",
   "metadata": {},
   "outputs": [],
   "source": [
    "from pathlib import Path\n",
    "from sklearn.model_selection import train_test_split\n",
    "import shutil"
   ]
  },
  {
   "cell_type": "code",
   "execution_count": null,
   "id": "477d448a",
   "metadata": {},
   "outputs": [],
   "source": [
    "data_path = Path.cwd() / 'data'\n",
    "original_data_path = data_path / 'landscape-pictures'\n",
    "all_filenames = list(original_data_path.glob('*'))\n",
    "train_val_filenames, test_filenames = train_test_split(all_filenames, test_size=1000, random_state=123)\n",
    "train_filenames, val_filenames = train_test_split(train_val_filenames, test_size=500, random_state=123)\n",
    "\n",
    "subdirectories = {\n",
    "    Path(data_path / \"test\"): test_filenames,\n",
    "    Path(data_path / \"val\"): val_filenames,\n",
    "    Path(data_path / \"train\"): train_filenames\n",
    "}\n",
    "\n",
    "def fill_sub_dir(sub_dir, file_subset):\n",
    "    for file in file_subset:\n",
    "        file_path = sub_dir / file.name\n",
    "        shutil.copyfile(file, file_path)\n",
    "\n",
    "for sub_dir, file_subset in subdirectories.items():\n",
    "    fill_sub_dir(sub_dir, file_subset)"
   ]
  },
  {
   "cell_type": "code",
   "execution_count": null,
   "id": "0b23b895",
   "metadata": {},
   "outputs": [
    {
     "data": {
      "text/plain": [
       "'/Users/antwan/CompSci/DeepMachineLearning/deep-machine-learning/project/data/train'"
      ]
     },
     "execution_count": 17,
     "metadata": {},
     "output_type": "execute_result"
    }
   ],
   "source": [
    "test_path, val_path, train_path = [path.absolute().as_posix() for path in list(subdirectories.keys())]"
   ]
  },
  {
   "cell_type": "code",
   "execution_count": null,
   "id": "9c922c7b",
   "metadata": {},
   "outputs": [],
   "source": []
  }
 ],
 "metadata": {
  "language_info": {
   "name": "python"
  }
 },
 "nbformat": 4,
 "nbformat_minor": 5
}
