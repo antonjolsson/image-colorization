{
 "cells": [
  {
   "cell_type": "code",
   "execution_count": 32,
   "id": "a3483e42",
   "metadata": {},
   "outputs": [],
   "source": [
    "from pathlib import Path\n",
    "from sklearn.model_selection import train_test_split\n",
    "import shutil\n",
    "import glob\n",
    "import os\n",
    "from itertools import chain\n",
    "from PIL import Image\n",
    "from torch.utils.data import Dataset\n",
    "import torchvision\n",
    "from torchvision.transforms import v2"
   ]
  },
  {
   "cell_type": "code",
   "execution_count": 24,
   "id": "477d448a",
   "metadata": {},
   "outputs": [],
   "source": [
    "data_path = Path.cwd() / 'data'\n",
    "test_path = Path(data_path / \"test\")\n",
    "train_path = Path(data_path / \"train\")\n",
    "val_path = Path(data_path / \"val\")\n",
    "\n",
    "for path in [test_path, train_path, val_path]:\n",
    "    files = glob.glob(path.absolute().as_posix() + '/*')\n",
    "    for f in files:\n",
    "        os.remove(f)\n",
    "\n",
    "original_data_path = data_path / 'landscape-pictures'\n",
    "all_filenames = list(original_data_path.glob('*'))\n",
    "train_val_filenames, test_filenames = train_test_split(all_filenames, test_size=1000, random_state=123)\n",
    "train_filenames, val_filenames = train_test_split(train_val_filenames, test_size=500, random_state=123)\n",
    "\n",
    "subdirectories = {\n",
    "    test_path: test_filenames,\n",
    "    val_path: val_filenames,\n",
    "    train_path: train_filenames\n",
    "}\n",
    "\n",
    "def fill_sub_dir(sub_dir, file_subset):\n",
    "    for file in file_subset:\n",
    "        file_path = sub_dir / file.name\n",
    "        shutil.copyfile(file, file_path)\n",
    "\n",
    "for sub_dir, file_subset in subdirectories.items():\n",
    "    fill_sub_dir(sub_dir, file_subset)"
   ]
  },
  {
   "cell_type": "code",
   "execution_count": 28,
   "id": "0b23b895",
   "metadata": {},
   "outputs": [],
   "source": [
    "test_path, val_path, train_path = [path.absolute().as_posix() for path in list(subdirectories.keys())]"
   ]
  },
  {
   "cell_type": "code",
   "execution_count": 30,
   "id": "9c922c7b",
   "metadata": {},
   "outputs": [],
   "source": [
    "class ImageData(Dataset):\n",
    "    def __init__(self, root, transform):\n",
    "        \"\"\"Constructor\n",
    "\n",
    "        Args:\n",
    "            root (Path/str): Filepath to the data root, e.g. './data/train'\n",
    "            transform (Compose): A composition of image transforms, see below.\n",
    "        \"\"\"\n",
    "\n",
    "        root = Path(root)\n",
    "        if not (root.exists() and root.is_dir()):\n",
    "            raise ValueError(f\"Data root '{root}' is invalid\")\n",
    "\n",
    "        self.root = root\n",
    "        self.transform = transform\n",
    "        self.greyscale_transform = torchvision.transforms.v2.Grayscale\n",
    "\n",
    "        # Collect samples, both cat and dog and store pairs of (filepath, label) in a simple list.\n",
    "        self._samples = self._collect_samples()\n",
    "\n",
    "    def __getitem__(self, index):\n",
    "        \"\"\"Get sample by index\n",
    "\n",
    "        Args:\n",
    "            index (int)\n",
    "\n",
    "        Returns:\n",
    "             The index'th sample (Tensor, int)\n",
    "        \"\"\"\n",
    "        # Access the stored path and label for the correct index\n",
    "        path = self._samples[index]\n",
    "        # Load the image into memory\n",
    "        original_img = Image.open(path)\n",
    "        greyscale_img = Image.open(path)\n",
    "        # Perform transforms, if any.\n",
    "        if self.transform is not None:\n",
    "            original_img = self.transform(original_img)\n",
    "            greyscale_img = self.greyscale_transform(greyscale_img)\n",
    "        return original_img, greyscale_img\n",
    "\n",
    "    def __len__(self):\n",
    "        \"\"\"Total number of samples\"\"\"\n",
    "        return len(self._samples)\n",
    "\n",
    "    def _collect_samples(self):\n",
    "        \"\"\"\"\n",
    "        Helper method for the constructor\n",
    "        \"\"\"\n",
    "\n",
    "        paths = self._collect_imgs_sub_dir(self.root)\n",
    "        # Sorting is not strictly necessary, but filesystem globbing (wildcard search) is not deterministic,\n",
    "        # and consistency is nice when debugging.\n",
    "        return sorted(paths)\n",
    "\n",
    "    @staticmethod\n",
    "    def _collect_imgs_sub_dir(sub_dir: Path):\n",
    "        \"\"\"Collect image paths in a directory\n",
    "\n",
    "        Helper method for the constructor\n",
    "        \"\"\"\n",
    "        if not sub_dir.exists():\n",
    "            raise ValueError(\n",
    "                f\"Directory '{sub_dir}' does not exist. Are you sure you have the correct path?\"\n",
    "            )\n",
    "        return sub_dir.glob(\"*.jpg\")"
   ]
  },
  {
   "cell_type": "code",
   "execution_count": 35,
   "id": "9229f326",
   "metadata": {},
   "outputs": [
    {
     "data": {
      "text/plain": [
       "(<PIL.Image.Image image mode=RGB size=256x256>, Grayscale())"
      ]
     },
     "execution_count": 35,
     "metadata": {},
     "output_type": "execute_result"
    }
   ],
   "source": [
    "image_size = 256\n",
    "\n",
    "transform = v2.Compose([\n",
    "    v2.Resize(image_size),\n",
    "    v2.CenterCrop(image_size),\n",
    "    v2.RandomHorizontalFlip(0.05)\n",
    "])\n",
    "\n",
    "train_dataset = ImageData(train_path, transform)\n",
    "\n",
    "train_dataset[0]"
   ]
  },
  {
   "cell_type": "code",
   "execution_count": null,
   "id": "c95b4da2",
   "metadata": {},
   "outputs": [],
   "source": []
  }
 ],
 "metadata": {
  "language_info": {
   "name": "python"
  }
 },
 "nbformat": 4,
 "nbformat_minor": 5
}
